{
 "cells": [
  {
   "cell_type": "code",
   "execution_count": 2,
   "id": "632fd879-bf9d-4a73-8470-de23f37e9212",
   "metadata": {},
   "outputs": [],
   "source": [
    "import pandas as pd\n",
    "import numpy as np\n",
    "\n",
    "import plotly.express as px\n",
    "import plotly.graph_objects as go\n",
    "\n",
    "import matplotlib.pyplot as plt"
   ]
  },
  {
   "cell_type": "code",
   "execution_count": 2,
   "id": "d76fde49-ea24-4f38-9440-30a334e0f7e5",
   "metadata": {},
   "outputs": [],
   "source": [
    "accel = pd.read_csv(\"Data/Postures Ezra/Accelerometer.csv\")\n",
    "gyro = pd.read_csv(\"Data/Postures Ezra/Gyroscope.csv\")\n",
    "linAccel = pd.read_csv(\"Data/Postures Ezra/Linear Accelerometer.csv\")"
   ]
  },
  {
   "cell_type": "code",
   "execution_count": 3,
   "id": "f652d517-3080-4f8e-9396-315c44d32a90",
   "metadata": {},
   "outputs": [],
   "source": [
    "Hz = 100\n",
    "times = np.array(list(range(1, int(max(gyro[\"Time (s)\"].to_numpy())) * Hz))) / Hz # 100Hz\n",
    "\n",
    "interpData = pd.DataFrame()\n",
    "\n",
    "adjGyro = pd.DataFrame()\n",
    "adjAccel = pd.DataFrame()\n",
    "adjLinAccel = pd.DataFrame()\n",
    "\n",
    "interpData[\"Time (s)\"] = times\n",
    "interpData[\"Gyro X (rad/s)\"] = np.interp(times, gyro[\"Time (s)\"], gyro[\"X (rad/s)\"])\n",
    "interpData[\"Gyro Y (rad/s)\"] = np.interp(times, gyro[\"Time (s)\"], gyro[\"Y (rad/s)\"])\n",
    "interpData[\"Gyro Z (rad/s)\"] = np.interp(times, gyro[\"Time (s)\"], gyro[\"Z (rad/s)\"])\n",
    "interpData[\"Accel X (m/s^2)\"] = np.interp(times, accel[\"Time (s)\"], accel[\"X (m/s^2)\"])\n",
    "interpData[\"Accel Y (m/s^2)\"] = np.interp(times, accel[\"Time (s)\"], accel[\"Y (m/s^2)\"])\n",
    "interpData[\"Accel Z (m/s^2)\"] = np.interp(times, accel[\"Time (s)\"], accel[\"Z (m/s^2)\"])\n",
    "interpData[\"Lin Accel X (m/s^2)\"] = np.interp(times, linAccel[\"Time (s)\"], linAccel[\"X (m/s^2)\"])\n",
    "interpData[\"Lin Accel Y (m/s^2)\"] = np.interp(times, linAccel[\"Time (s)\"], linAccel[\"Y (m/s^2)\"])\n",
    "interpData[\"Lin Accel Z (m/s^2)\"] = np.interp(times, linAccel[\"Time (s)\"], linAccel[\"Z (m/s^2)\"])"
   ]
  },
  {
   "cell_type": "code",
   "execution_count": null,
   "id": "c91dc784-b230-47e5-be59-271dd899fdba",
   "metadata": {},
   "outputs": [],
   "source": [
    "normData = interpData\n",
    "normData[normData.columns[4]] = (normData[normData.columns[4]] - normData[normData.columns[4]].max()) / (normData[normData.columns[4]].max() - normData[normData.columns[4]].min())\n",
    "normData[normData.columns[5]] = (normData[normData.columns[5]] - normData[normData.columns[5]].max()) / (normData[normData.columns[5]].max() - normData[normData.columns[5]].min())\n",
    "normData[normData.columns[6]] = (normData[normData.columns[6]] - normData[normData.columns[6]].max()) / (normData[normData.columns[6]].max() - normData[normData.columns[6]].min())\n",
    "\n",
    "# Show figure to label position\n",
    "fig = px.line(normData[normData.columns[4:7]])\n",
    "maxTime = 42 * 60 * Hz\n",
    "postureInterval = 2 * 60 * Hz\n",
    "transTime = 10                           # Add 10 seconds needed to move to new position\n",
    "for i in range(0, maxTime + postureInterval, postureInterval):\n",
    "    fig.add_vline(x = i + transTime * Hz)\n",
    "fig.show()\n",
    "\n",
    "# Remove data after experiment is done\n",
    "normData = normData.drop(range(maxTime + transTime * Hz, len(normData)))"
   ]
  },
  {
   "cell_type": "code",
   "execution_count": null,
   "id": "39f25edc-a6c1-432d-8674-ff66fee90cd6",
   "metadata": {},
   "outputs": [],
   "source": [
    "# Label order of experiment\n",
    "labelOrder = ['L', 'R', 'L', 'F', 'L', 'B', 'L', 'S', 'R', 'F', 'R', 'B', 'R', 'S', 'F', 'B', 'F', 'S', 'B', 'S', 'L']\n",
    "\n",
    "# Set start times of transitions and labels, with 10 second time for transitions\n",
    "transPos = [i for i in range(0, len(normData), postureInterval)][:-1]\n",
    "labelPos = [time + transTime * Hz for time in transPos]\n",
    "\n",
    "# Set labels\n",
    "labels = np.chararray(len(normData), unicode = True)\n",
    "for i, times in enumerate(zip(transPos, labelPos)):\n",
    "    labels[times[0]:] = 'T'\n",
    "    labels[times[1]:] = labelOrder[i]\n",
    "\n",
    "normData[\"Label\"] = labels\n",
    "\n",
    "# Lower size of data through change of data types\n",
    "numVars = [\"Gyro X (rad/s)\", \"Gyro Y (rad/s)\", \"Gyro Z (rad/s)\", \n",
    "           \"Accel X (m/s^2)\", \"Accel Y (m/s^2)\", \"Accel Z (m/s^2)\",\n",
    "           \"Lin Accel X (m/s^2)\", \"Lin Accel Y (m/s^2)\", \"Lin Accel Z (m/s^2)\"]\n",
    "normData[numVars] = normData[numVars].astype(np.float32)\n",
    "\n",
    "normData[\"Time (s)\"] = (normData[\"Time (s)\"] * 1000).astype(np.int32)\n",
    "normData = normData.rename(columns = {\"Time (s)\": \"Time (ms)\"})\n",
    "\n",
    "normData[\"Label\"] = normData[\"Label\"].astype('<U2')\n",
    "\n",
    "normData.dtypes"
   ]
  },
  {
   "cell_type": "code",
   "execution_count": null,
   "id": "7ac3a06f-1874-47ed-a311-c943c446e6e9",
   "metadata": {
    "scrolled": true
   },
   "outputs": [],
   "source": [
    "colors = np.zeros(len(normData), dtype = \"<U10\")\n",
    "colDict = {\"T\": \"black\", \"R\": \"green\", \"L\": \"yellow\", \"B\": \"blue\", \"S\": \"red\", \"F\": \"turquoise\"}\n",
    "\n",
    "# Function to segment the data by continuous label\n",
    "def segment_data(df):\n",
    "    segments = []\n",
    "    current_label = df.iloc[0]['Label']\n",
    "    start_idx = 0\n",
    "    for idx in range(1, len(df)):\n",
    "        if df.iloc[idx]['Label'] != current_label:\n",
    "            segments.append(df[start_idx:idx])\n",
    "            start_idx = idx\n",
    "            current_label = df.iloc[idx]['Label']\n",
    "    segments.append(df[start_idx:])  # add the last segment\n",
    "    return segments\n",
    "\n",
    "# Segment the data\n",
    "segments = segment_data(normData)\n",
    "\n",
    "# Create the plot\n",
    "fig = go.Figure()\n",
    "\n",
    "# New order for labels\n",
    "newLabOrder = []\n",
    "for label in labelOrder:\n",
    "    newLabOrder.append('T')\n",
    "    newLabOrder.append(label)\n",
    "\n",
    "# Add each segment as a separate trace\n",
    "legend_added = set()\n",
    "for i, segment in enumerate(segments):\n",
    "    label = newLabOrder[i]\n",
    "    show_legend = label not in legend_added\n",
    "    fig.add_trace(go.Scatter(\n",
    "        x = segment['Time (ms)'],\n",
    "        y = segment['Accel X (m/s^2)'],\n",
    "        mode = 'lines',\n",
    "        name = label,\n",
    "        line = {\n",
    "            \"color\": colDict[label]\n",
    "        },\n",
    "        showlegend = show_legend\n",
    "    )),\n",
    "    legend_added.add(label)\n",
    "\n",
    "# Update layout\n",
    "fig.update_layout(\n",
    "    title = \"Time Series with Different Labels\",\n",
    "    xaxis_title = \"Time (ms)\",\n",
    "    yaxis_title = \"Acceleration X (m/s^2)\"\n",
    ")\n",
    "\n",
    "# Show the plot\n",
    "fig.show()"
   ]
  },
  {
   "cell_type": "code",
   "execution_count": 3,
   "id": "a1560314-4d44-43e1-8ec1-d50a229a8b66",
   "metadata": {},
   "outputs": [],
   "source": [
    "# normData.to_csv(\"Ezra Data.csv\")\n",
    "\n",
    "normData = pd.read_csv(\"/Users/alexanderithakis/Documents/GitHub/ML4QS/Python3Code/_Alexander/(1) Dataset_1.csv\")"
   ]
  },
  {
   "cell_type": "code",
   "execution_count": 4,
   "id": "57101729-45ac-418d-93b8-9bf70e1ba33c",
   "metadata": {},
   "outputs": [
    {
     "data": {
      "text/html": [
       "<div>\n",
       "<style scoped>\n",
       "    .dataframe tbody tr th:only-of-type {\n",
       "        vertical-align: middle;\n",
       "    }\n",
       "\n",
       "    .dataframe tbody tr th {\n",
       "        vertical-align: top;\n",
       "    }\n",
       "\n",
       "    .dataframe thead th {\n",
       "        text-align: right;\n",
       "    }\n",
       "</style>\n",
       "<table border=\"1\" class=\"dataframe\">\n",
       "  <thead>\n",
       "    <tr style=\"text-align: right;\">\n",
       "      <th></th>\n",
       "      <th>Time (ms)</th>\n",
       "      <th>Gyro X (rad/s)</th>\n",
       "      <th>Gyro Y (rad/s)</th>\n",
       "      <th>Gyro Z (rad/s)</th>\n",
       "      <th>Accel X (m/s^2)</th>\n",
       "      <th>Accel Y (m/s^2)</th>\n",
       "      <th>Accel Z (m/s^2)</th>\n",
       "      <th>Lin Accel X (m/s^2)</th>\n",
       "      <th>Lin Accel Y (m/s^2)</th>\n",
       "      <th>Lin Accel Z (m/s^2)</th>\n",
       "    </tr>\n",
       "  </thead>\n",
       "  <tbody>\n",
       "  </tbody>\n",
       "</table>\n",
       "</div>"
      ],
      "text/plain": [
       "Empty DataFrame\n",
       "Columns: [Time (ms), Gyro X (rad/s), Gyro Y (rad/s), Gyro Z (rad/s), Accel X (m/s^2), Accel Y (m/s^2), Accel Z (m/s^2), Lin Accel X (m/s^2), Lin Accel Y (m/s^2), Lin Accel Z (m/s^2)]\n",
       "Index: []"
      ]
     },
     "execution_count": 4,
     "metadata": {},
     "output_type": "execute_result"
    }
   ],
   "source": [
    "from sklearn.neighbors import LocalOutlierFactor\n",
    "X = normData.iloc[:, 1:-1]\n",
    "model = LocalOutlierFactor()\n",
    "model.fit(X)\n",
    "y_pred = model.fit_predict(X)\n",
    "X[y_pred == -1] # anomalies"
   ]
  },
  {
   "cell_type": "code",
   "execution_count": null,
   "id": "436b78d9-7d0b-43a0-988d-7147c7f21c8d",
   "metadata": {},
   "outputs": [],
   "source": [
    "sum(y_pred == -1)"
   ]
  },
  {
   "cell_type": "code",
   "execution_count": 81,
   "id": "1444549f-3545-43da-be57-b9cd9605423a",
   "metadata": {},
   "outputs": [],
   "source": [
    "import numpy as np\n",
    "from scipy.signal import butter, filtfilt\n",
    "\n",
    "def lowpassFilter(data, cutoff, fs, order = 5):\n",
    "    nyq = 0.5 * fs\n",
    "    normal_cutoff = cutoff / nyq\n",
    "    b, a = butter(order, normal_cutoff, btype='low', analog=False)\n",
    "    y = filtfilt(b, a, data)\n",
    "    return y\n",
    "\n",
    "# Apply filter to measurements\n",
    "cutoff = 0.5\n",
    "filterData = normData.copy()\n",
    "filterData.iloc[:, 1:-1] = filterData.iloc[:, 1:-1].apply(lowpassFilter, args = (cutoff, Hz))"
   ]
  },
  {
   "cell_type": "code",
   "execution_count": null,
   "id": "8d0f39de-dfb6-4a71-ab00-e614b00613a3",
   "metadata": {},
   "outputs": [],
   "source": [
    "# Plotting\n",
    "plt.plot(normData[\"Time (ms)\"], normData[\"Accel Z (m/s^2)\"], label = 'Noisy signal')\n",
    "plt.plot(normData[\"Time (ms)\"], filterData[\"Accel Z (m/s^2)\"], label = 'Filtered signal', linewidth = 2)\n",
    "plt.legend()\n",
    "plt.show()"
   ]
  },
  {
   "cell_type": "code",
   "execution_count": 84,
   "id": "f6bb625d-560a-46fc-a269-12572245d3ea",
   "metadata": {},
   "outputs": [],
   "source": [
    "from pykalman import KalmanFilter\n",
    "\n",
    "# Get temporal sensor data\n",
    "measures = normData.drop(columns = [\"Time (ms)\", \"Label\"])\n",
    "\n",
    "# Define initial state\n",
    "initialMeans = np.zeros(measures.shape[1])\n",
    "\n",
    "# Define state transition matrix and observation matrix\n",
    "transMatrix = np.eye(measures.shape[1])\n",
    "obsMatrix = np.eye(measures.shape[1])\n",
    "\n",
    "# Initialize the Kalman filter\n",
    "kf = KalmanFilter(\n",
    "    transition_matrices = transMatrix,\n",
    "    observation_matrices = obsMatrix,\n",
    "    initial_state_mean = initialMeans\n",
    ")\n",
    "\n",
    "# Mask invalid values\n",
    "maskedMeasures = np.ma.masked_invalid(measures)\n",
    "\n",
    "# Estimate parameters\n",
    "kf = kf.em(maskedMeasures, n_iter = 5)          # iters?????????\n",
    "\n",
    "# Apply the filter to the data\n",
    "filteredMeans, filteredCov = kf.filter(maskedMeasures)\n",
    "\n",
    "# Add filtered data to the original data table\n",
    "kalmanData2 = normData.copy()\n",
    "kalmanData2.iloc[:, 1:-1] = filteredMeans"
   ]
  },
  {
   "cell_type": "code",
   "execution_count": null,
   "id": "fc1fde2e-9cbe-4db9-a088-6b5cf6031912",
   "metadata": {},
   "outputs": [],
   "source": [
    "plt.figure(figsize = (12, 8))\n",
    "plt.plot(normData['Accel Z (m/s^2)'], label = 'Original Accelerometer')\n",
    "plt.plot(kalmanData['Accel Z (m/s^2)'], label='Filtered X Accelerometer')\n",
    "plt.tight_layout()\n",
    "plt.show()"
   ]
  }
 ],
 "metadata": {
  "kernelspec": {
   "display_name": "Python 3 (ipykernel)",
   "language": "python",
   "name": "python3"
  },
  "language_info": {
   "codemirror_mode": {
    "name": "ipython",
    "version": 3
   },
   "file_extension": ".py",
   "mimetype": "text/x-python",
   "name": "python",
   "nbconvert_exporter": "python",
   "pygments_lexer": "ipython3",
   "version": "3.8.19"
  }
 },
 "nbformat": 4,
 "nbformat_minor": 5
}
