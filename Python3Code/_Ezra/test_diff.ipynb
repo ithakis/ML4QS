{
 "cells": [
  {
   "cell_type": "markdown",
   "metadata": {},
   "source": [
    "# Trying different techniques to find best method\n",
    "\n",
    "This also tries ensemble methods to see wether it can improve the accuracy "
   ]
  },
  {
   "cell_type": "code",
   "execution_count": null,
   "metadata": {},
   "outputs": [],
   "source": [
    "import pandas as pd\n",
    "from flaml import AutoML\n",
    "from sklearn.model_selection import train_test_split\n",
    "from flaml.data import get_output_from_log\n",
    "import seaborn as sns\n",
    "# Load dataset\n",
    "df = pd.read_csv(\"your_preprocessed_data.csv\")\n",
    "\n",
    "\n",
    "# Split data into features (X) and target (y)\n",
    "X = df.drop('posture', axis=1)\n",
    "y = df['posture']\n",
    "\n",
    "# Split data into train and test sets\n",
    "X_train, X_test, y_train, y_test = train_test_split(X, y, test_size=0.2, random_state=42)\n",
    "\n",
    "# FLAML Setup for Multiple Algorithms\n",
    "automl = AutoML()\n",
    "settings = {\n",
    "    \"time_budget\": 300,           # Time limit in seconds\n",
    "    \"metric\": 'accuracy',          # Classification metric \n",
    "    \"task\": 'classification',\n",
    "    \"estimator_list\": ['lgbm', 'xgboost', 'rf', 'xgb_limitdepth'],   # Include various algorithms \n",
    "    \"log_file_name\": 'flaml_multi_algo_posture.log',\n",
    "    \"eval_method\": \"holdout\",      # Use holdout validation \n",
    "    \"early_stop\": True,           \n",
    "    \"n_splits\": 5,                \n",
    "    \"mem_thres\": 1024 * 8,       \n",
    "    \"ensemble\": True,              # Enable model ensembling (optional)\n",
    "    \"n_jobs\": -1,\n",
    "}\n",
    "\n",
    "# Run FLAML's AutoML process\n",
    "automl.fit(X_train=X_train, y_train=y_train, **settings)\n",
    "\n",
    "# Analyze Results\n",
    "print(f\"Best estimator: {automl.best_estimator}\")\n",
    "print(f\"Best hyperparameters: {automl.best_config}\")\n",
    "print(f\"Best loss (accuracy): {-automl.best_loss:.4f}\")\n",
    "\n",
    "# Compare Performance of Different Models\n",
    "# (Extract from log file as shown in previous plotting code)\n",
    "df_results = get_output_from_log(log_file_name='flaml_multi_algo_posture.log', time_budget=300)\n"
   ]
  },
  {
   "cell_type": "code",
   "execution_count": null,
   "metadata": {},
   "outputs": [],
   "source": []
  },
  {
   "cell_type": "markdown",
   "metadata": {},
   "source": [
    "# Now plots to get visual representation of the training"
   ]
  },
  {
   "cell_type": "markdown",
   "metadata": {},
   "source": [
    "## Learning Curves"
   ]
  },
  {
   "cell_type": "code",
   "execution_count": null,
   "metadata": {},
   "outputs": [],
   "source": [
    "import matplotlib.pyplot as plt\n",
    "from flaml.data import get_output_from_log\n",
    "import seaborn as sns\n",
    "\n",
    "# Load FLAML's log file (replace with your actual log file name)\n",
    "df = get_output_from_log(log_file_name='flaml_lgbm_posture.log', time_budget=300)\n",
    "\n",
    "# 1. Learning Curves:\n",
    "plt.figure(figsize=(12, 6))\n",
    "for config_id, config_data in df.groupby('config_id'):\n",
    "    plt.plot(config_data['wall_clock_time'], config_data['val_loss'], label=f'Config {config_id}')\n",
    "plt.xlabel('Time (s)')\n",
    "plt.ylabel('Validation Loss (Accuracy)')\n",
    "plt.title('Learning Curves for Different Configurations')\n",
    "plt.legend()\n",
    "plt.show()\n",
    "\n",
    "\n"
   ]
  },
  {
   "cell_type": "markdown",
   "metadata": {},
   "source": [
    "## Hyperparameter Importance"
   ]
  },
  {
   "cell_type": "code",
   "execution_count": null,
   "metadata": {},
   "outputs": [],
   "source": [
    "# 2. Hyperparameter Importance:\n",
    "importances = automl.model.estimator.feature_importances_\n",
    "features = X.columns\n",
    "plt.figure(figsize=(10, 6))\n",
    "sns.barplot(x=features, y=importances)\n",
    "plt.xticks(rotation=45)\n",
    "plt.xlabel('Features')\n",
    "plt.ylabel('Importance')\n",
    "plt.title('Feature Importance')\n",
    "plt.show()\n"
   ]
  },
  {
   "cell_type": "markdown",
   "metadata": {},
   "source": [
    "## Confusion Matrix"
   ]
  },
  {
   "cell_type": "code",
   "execution_count": null,
   "metadata": {},
   "outputs": [],
   "source": [
    "# 3. Confusion Matrix:\n",
    "from sklearn.metrics import confusion_matrix\n",
    "y_pred = automl.predict(X)\n",
    "cm = confusion_matrix(y, y_pred)\n",
    "plt.figure(figsize=(8, 6))\n",
    "sns.heatmap(cm, annot=True, fmt='d', cmap='Blues', xticklabels=automl.classes_, yticklabels=automl.classes_)\n",
    "plt.xlabel('Predicted')\n",
    "plt.ylabel('True')\n",
    "plt.title('Confusion Matrix')\n",
    "plt.show()"
   ]
  },
  {
   "cell_type": "markdown",
   "metadata": {},
   "source": [
    "##  Precision-Recall Curve (for each posture class)"
   ]
  },
  {
   "cell_type": "code",
   "execution_count": null,
   "metadata": {},
   "outputs": [],
   "source": [
    "# 4. Precision-Recall Curve (for each posture class):\n",
    "from sklearn.metrics import precision_recall_curve\n",
    "from sklearn.preprocessing import label_binarize\n",
    "\n",
    "y_bin = label_binarize(y, classes=automl.classes_)\n",
    "n_classes = y_bin.shape[1]\n",
    "\n",
    "plt.figure(figsize=(10, 8))\n",
    "for i in range(n_classes):\n",
    "    precision, recall, _ = precision_recall_curve(y_bin[:, i], automl.predict_proba(X)[:, i])\n",
    "    plt.plot(recall, precision, label=f'Class {automl.classes_[i]}')\n",
    "plt.xlabel('Recall')\n",
    "plt.ylabel('Precision')\n",
    "plt.title('Precision-Recall Curve')\n",
    "plt.legend()\n",
    "plt.show()"
   ]
  },
  {
   "cell_type": "markdown",
   "metadata": {},
   "source": [
    "## Classification Report (summary of metrics)"
   ]
  },
  {
   "cell_type": "code",
   "execution_count": null,
   "metadata": {},
   "outputs": [],
   "source": [
    "\n",
    "# 5. Classification Report (summary of metrics):\n",
    "from sklearn.metrics import classification_report\n",
    "print(classification_report(y, y_pred, target_names=automl.classes_))"
   ]
  }
 ],
 "metadata": {
  "kernelspec": {
   "display_name": "ml4qs",
   "language": "python",
   "name": "python3"
  },
  "language_info": {
   "name": "python",
   "version": "3.8.8"
  }
 },
 "nbformat": 4,
 "nbformat_minor": 2
}
